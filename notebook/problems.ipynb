{
    "cells": [
        {
            "cell_type": "markdown",
            "id": "ac622319",
            "metadata": {},
            "source": [
                "# Descriptive statistics problems"
            ]
        },
        {
            "cell_type": "markdown",
            "id": "5e0ab0d5",
            "metadata": {},
            "source": [
                "### Exercise 1\n",
                "\n",
                "We will use NumPy to obtain information to describe statistically.\n",
                "\n",
                "- Generate an array of 100 elements following a normal distribution.\n",
                "- Generate an array of 100 elements following a chi-square distribution with 3 degrees of freedom.\n",
                "- Calculate the main metrics and statistical measures that best describe the two vectors."
            ]
        },
        {
            "cell_type": "code",
            "execution_count": 19,
            "id": "c84d3828",
            "metadata": {},
            "outputs": [],
            "source": [
                "import numpy as np\n",
                "\n",
                "import matplotlib.pyplot as plt"
            ]
        },
        {
            "cell_type": "markdown",
            "id": "1fd81ab0",
            "metadata": {},
            "source": [
                "### Generate an array of 100 elements following a normal distribution."
            ]
        },
        {
            "cell_type": "code",
            "execution_count": 36,
            "id": "34720ab6",
            "metadata": {},
            "outputs": [],
            "source": [
                "# TODO\n",
                "##################mean, st. deviation, number of numbers\n",
                "normal_variable = np.random.normal(1, 10, 100)"
            ]
        },
        {
            "cell_type": "code",
            "execution_count": 45,
            "id": "2546fdae",
            "metadata": {},
            "outputs": [
                {
                    "data": {
                        "text/plain": [
                            "3.425981071795992"
                        ]
                    },
                    "execution_count": 45,
                    "metadata": {},
                    "output_type": "execute_result"
                }
            ],
            "source": [
                "normal_variable.mean()"
            ]
        },
        {
            "cell_type": "code",
            "execution_count": 46,
            "id": "28dfbfb9",
            "metadata": {},
            "outputs": [
                {
                    "data": {
                        "text/plain": [
                            "10.434104235912832"
                        ]
                    },
                    "execution_count": 46,
                    "metadata": {},
                    "output_type": "execute_result"
                }
            ],
            "source": [
                "normal_variable.std()"
            ]
        },
        {
            "cell_type": "code",
            "execution_count": 47,
            "id": "dbc14788",
            "metadata": {},
            "outputs": [
                {
                    "data": {
                        "text/plain": [
                            "-26.627472133306043"
                        ]
                    },
                    "execution_count": 47,
                    "metadata": {},
                    "output_type": "execute_result"
                }
            ],
            "source": [
                "normal_variable.min()"
            ]
        },
        {
            "cell_type": "code",
            "execution_count": 48,
            "id": "8bf9355c",
            "metadata": {},
            "outputs": [
                {
                    "data": {
                        "text/plain": [
                            "27.32789915948009"
                        ]
                    },
                    "execution_count": 48,
                    "metadata": {},
                    "output_type": "execute_result"
                }
            ],
            "source": [
                "normal_variable.max()"
            ]
        },
        {
            "cell_type": "code",
            "execution_count": 51,
            "id": "cf0b0bfa",
            "metadata": {},
            "outputs": [
                {
                    "data": {
                        "text/plain": [
                            "87"
                        ]
                    },
                    "execution_count": 51,
                    "metadata": {},
                    "output_type": "execute_result"
                }
            ],
            "source": [
                "normal_variable.argmax()"
            ]
        },
        {
            "cell_type": "code",
            "execution_count": 53,
            "id": "cfa76aa3",
            "metadata": {},
            "outputs": [],
            "source": [
                "import statistics as stats"
            ]
        },
        {
            "cell_type": "code",
            "execution_count": 55,
            "id": "da4d2c2e",
            "metadata": {},
            "outputs": [
                {
                    "data": {
                        "text/plain": [
                            "3.6781261490835826"
                        ]
                    },
                    "execution_count": 55,
                    "metadata": {},
                    "output_type": "execute_result"
                }
            ],
            "source": [
                "#stats.median(normal_variable)\n",
                "np.median(normal_variable)"
            ]
        },
        {
            "cell_type": "code",
            "execution_count": 59,
            "id": "1af3cb76",
            "metadata": {},
            "outputs": [],
            "source": [
                "#!pip install seaborn\n",
                "import seaborn as sns"
            ]
        },
        {
            "cell_type": "code",
            "execution_count": 63,
            "id": "3938ba4a",
            "metadata": {},
            "outputs": [
                {
                    "data": {
                        "text/plain": [
                            "array([  3.91611861,  -7.51057031,   9.99919675,   2.03111022,\n",
                            "         5.89365273, -14.27852833,  24.69141733,  -1.76283804,\n",
                            "         4.69913569,  15.80491666,  -1.38955458,  23.02346308,\n",
                            "        -5.43898996,   9.99850475,   5.5136303 ,   1.53570278,\n",
                            "         4.0005884 , -15.19523994,   2.9041018 ,  11.83368729,\n",
                            "         5.47794126,  -4.44091254,  10.07532894,   7.87190986,\n",
                            "       -10.764374  ,   4.0311313 ,   0.8566504 ,   7.92518292,\n",
                            "        -7.80192294,  -7.16707055,  16.46660982,  -1.86692078,\n",
                            "         0.91160386,  17.27427126,   9.34249058,  17.41932833,\n",
                            "        11.14528558,   4.14127098,  -4.86929557, -12.81348357,\n",
                            "        19.1606758 ,  -1.14440497,  11.24666429,  -2.18861003,\n",
                            "        -1.09292885,  17.39776208, -26.62747213,  -8.29139035,\n",
                            "         9.0496915 ,  13.42868213,  15.04493816,   5.91209623,\n",
                            "        -0.81829406,  14.95575492,  -0.78838553, -12.30414173,\n",
                            "         1.11983245,   0.77119635,  -6.9484804 ,   7.32952939,\n",
                            "        -2.91153573,   1.76474885,  13.86484617,  14.61648816,\n",
                            "         9.10820977,  16.4334355 ,   0.79395124,   3.61835972,\n",
                            "        -2.11404984,   1.50961597,  16.00012962,   6.16805033,\n",
                            "        12.36720014,  -3.64466077,  18.40835323, -12.55830309,\n",
                            "       -18.74539365,   1.29755483,  -4.64375859,  14.8134    ,\n",
                            "        17.33670759,   0.98320386,  -4.79834042,  -6.81231349,\n",
                            "         4.71913522,   4.0457725 , -16.05793143,  27.32789916,\n",
                            "        -6.05721707, -17.33186293,   8.40821506,   7.26620993,\n",
                            "         3.73789257,  -5.14123004,  -1.79377704,  16.37962288,\n",
                            "        24.84789411,  -2.8255594 ,   9.23235432,  -5.71245572])"
                        ]
                    },
                    "execution_count": 63,
                    "metadata": {},
                    "output_type": "execute_result"
                }
            ],
            "source": [
                "normal_variable"
            ]
        },
        {
            "cell_type": "code",
            "execution_count": 73,
            "id": "c0010eb1",
            "metadata": {},
            "outputs": [
                {
                    "data": {
                        "text/plain": [
                            "<Axes: ylabel='Count'>"
                        ]
                    },
                    "execution_count": 73,
                    "metadata": {},
                    "output_type": "execute_result"
                },
                {
                    "data": {
                        "image/png": "[encoded data removed]",
                        "text/plain": [
                            "<Figure size 1200x400 with 1 Axes>"
                        ]
                    },
                    "metadata": {},
                    "output_type": "display_data"
                }
            ],
            "source": [
                "plt.figure(figsize=(12,4))\n",
                "sns.rugplot(normal_variable,height=0.25)\n",
                "sns.histplot(normal_variable)"
            ]
        },
        {
            "cell_type": "markdown",
            "id": "cb17762f",
            "metadata": {},
            "source": [
                "### Generate an array of 100 elements following a chi-square distribution with 3 degrees of freedom.\n",
                "\n",
                "## $\\chi$"
            ]
        },
        {
            "cell_type": "code",
            "execution_count": 75,
            "id": "688c7ebe",
            "metadata": {},
            "outputs": [],
            "source": [
                "chisquare_vector = np.random.chisquare(3, 100)"
            ]
        },
        {
            "cell_type": "code",
            "execution_count": 77,
            "id": "a2fc87f5",
            "metadata": {},
            "outputs": [
                {
                    "data": {
                        "text/plain": [
                            "2.707127022581351"
                        ]
                    },
                    "execution_count": 77,
                    "metadata": {},
                    "output_type": "execute_result"
                }
            ],
            "source": [
                "chisquare_vector.mean()"
            ]
        },
        {
            "cell_type": "code",
            "execution_count": 78,
            "id": "b767c191",
            "metadata": {},
            "outputs": [
                {
                    "data": {
                        "text/plain": [
                            "2.362661809052822"
                        ]
                    },
                    "execution_count": 78,
                    "metadata": {},
                    "output_type": "execute_result"
                }
            ],
            "source": [
                "chisquare_vector.std()"
            ]
        },
        {
            "cell_type": "code",
            "execution_count": 79,
            "id": "1a2f8c39",
            "metadata": {},
            "outputs": [
                {
                    "data": {
                        "text/plain": [
                            "0.14543696844421658"
                        ]
                    },
                    "execution_count": 79,
                    "metadata": {},
                    "output_type": "execute_result"
                }
            ],
            "source": [
                "chisquare_vector.min()"
            ]
        },
        {
            "cell_type": "code",
            "execution_count": 80,
            "id": "0c19fb18",
            "metadata": {},
            "outputs": [
                {
                    "data": {
                        "text/plain": [
                            "10.319864588959467"
                        ]
                    },
                    "execution_count": 80,
                    "metadata": {},
                    "output_type": "execute_result"
                }
            ],
            "source": [
                "chisquare_vector.max()"
            ]
        },
        {
            "cell_type": "code",
            "execution_count": 103,
            "id": "482b22e0",
            "metadata": {},
            "outputs": [
                {
                    "data": {
                        "text/plain": [
                            "<Axes: ylabel='Count'>"
                        ]
                    },
                    "execution_count": 103,
                    "metadata": {},
                    "output_type": "execute_result"
                },
                {
                    "data": {
                        "image/png": "[encoded data removed]",
                        "text/plain": [
                            "<Figure size 1200x300 with 1 Axes>"
                        ]
                    },
                    "metadata": {},
                    "output_type": "display_data"
                }
            ],
            "source": [
                "plt.figure(figsize=(12,3))\n",
                "sns.histplot(chisquare_vector)#,bins=20, color='khaki')\n",
                "#sns.rugplot(chisquare_vector, height=0.1, color='black')\n",
                "#sns.boxplot(chisquare_vector, orient='h', color='gold')"
            ]
        },
        {
            "cell_type": "markdown",
            "id": "cccf06a6",
            "metadata": {},
            "source": [
                "## Interquartile Range (IQR)\n",
                "\n",
                "This is the \"middle 50%\" of the dataset if it was line up lowest-to-highest\n",
                "\n",
                "It is the \"middle quarters\""
            ]
        },
        {
            "cell_type": "markdown",
            "id": "46c70c3d",
            "metadata": {},
            "source": [
                "### Exercise 2\n",
                "\n",
                "Write a Python program to calculate the standard deviation of the following data:\n",
                "\n",
                "```py\n",
                "data = [4, 2, 5, 8, 6]\n",
                "```"
            ]
        },
        {
            "cell_type": "code",
            "execution_count": 108,
            "id": "d590308e",
            "metadata": {},
            "outputs": [],
            "source": [
                "# TODO\n",
                "data = np.array([4, 2, 5, 8, 6])"
            ]
        },
        {
            "cell_type": "code",
            "execution_count": 110,
            "id": "4746f91a",
            "metadata": {},
            "outputs": [
                {
                    "data": {
                        "text/plain": [
                            "2.0"
                        ]
                    },
                    "execution_count": 110,
                    "metadata": {},
                    "output_type": "execute_result"
                }
            ],
            "source": [
                "data.std()"
            ]
        },
        {
            "cell_type": "code",
            "execution_count": null,
            "id": "5473d51d",
            "metadata": {},
            "outputs": [],
            "source": []
        }
    ],
    "metadata": {
        "interpreter": {
            "hash": "9248718ffe6ce6938b217e69dbcc175ea21f4c6b28a317e96c05334edae734bb"
        },
        "kernelspec": {
            "display_name": "Python 3.9.12 ('ML-BOOTCAMP')",
            "language": "python",
            "name": "python3"
        },
        "language_info": {
            "codemirror_mode": {
                "name": "ipython",
                "version": 3
            },
            "file_extension": ".py",
            "mimetype": "text/x-python",
            "name": "python",
            "nbconvert_exporter": "python",
            "pygments_lexer": "ipython3",
            "version": "3.11.4"
        }
    },
    "nbformat": 4,
    "nbformat_minor": 5
}
